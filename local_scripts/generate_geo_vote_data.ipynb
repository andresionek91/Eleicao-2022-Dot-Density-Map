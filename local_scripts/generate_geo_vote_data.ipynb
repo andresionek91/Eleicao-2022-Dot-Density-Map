{
 "cells": [
  {
   "cell_type": "code",
   "execution_count": 2,
   "metadata": {},
   "outputs": [
    {
     "name": "stdout",
     "output_type": "stream",
     "text": [
      "Processing row 0 of 274\n",
      "{'cep': '0957', 'numero_candidato': 12, 'votos': 276}\n",
      "202\n"
     ]
    }
   ],
   "source": [
    "import pandas as pd\n",
    "import json\n",
    "import logging\n",
    "import time\n",
    "import backoff\n",
    "import boto3\n",
    "import pandas as pd\n",
    "\n",
    "\n",
    "logging.basicConfig(level=logging.INFO)\n",
    "logger = logging.getLogger()\n",
    "\n",
    "pd.set_option(\"display.max_rows\", 500)\n",
    "pd.set_option(\"display.max_columns\", 50)\n",
    "pd.set_option(\"display.width\", 1000)\n",
    "\n",
    "client = boto3.client(\"lambda\")\n",
    "\n",
    "\n",
    "df = pd.read_csv(\n",
    "    filepath_or_buffer=\"../data/enriched/votos_por_secao_com_cep.csv\",\n",
    "    encoding=\"utf-8\",\n",
    "    header=0,\n",
    "    dtype={\n",
    "        0: int,\n",
    "        1: int,\n",
    "        2: str,\n",
    "        3: str,\n",
    "        4: str,\n",
    "        5: str,\n",
    "        6: str,\n",
    "        7: int,\n",
    "        8: int,\n",
    "        9: str,\n",
    "        10: int,\n",
    "        },\n",
    "        nrows=10000\n",
    "    )\n",
    "df[\"CEP\"] = df[\"CEP\"].str[:-4]\n",
    "\n",
    "df = df[[\"CEP\", \"TURNO\", \"NUMERO_CANDIDATO\", \"VOTOS\"]]\n",
    "df = df.groupby([\"CEP\", \"TURNO\", \"NUMERO_CANDIDATO\"]).sum()\n",
    "df = df.reset_index()\n",
    "total_rows = df.shape[0]\n",
    "\n",
    "@backoff.on_exception(backoff.expo, RuntimeError, max_time=15)\n",
    "def call_lambda(payload):\n",
    "    print(payload)\n",
    "    response = client.invoke(\n",
    "        FunctionName=\"Eleicoes2022-DataProcessi-GeoVotesFunctionCA5674F9-5OLJWl1KhVGr\",\n",
    "        InvocationType=\"Event\",\n",
    "        Payload=json.dumps(payload),\n",
    "    )\n",
    "    status_code = response['StatusCode']\n",
    "    print(status_code)\n",
    "    if status_code < 200 and status_code >= 300:\n",
    "        raise RuntimeError\n",
    "\n",
    "for row in df.itertuples():\n",
    "    print(f\"Processing row {row.Index} of {total_rows}\")\n",
    "    payload = {\"cep\": row.CEP, \"turno\": row.TURNO, \"numero_candidato\": row.NUMERO_CANDIDATO, \"votos\": row.VOTOS}\n",
    "    call_lambda(payload)\n",
    "    break\n"
   ]
  },
  {
   "cell_type": "code",
   "execution_count": null,
   "metadata": {},
   "outputs": [],
   "source": []
  }
 ],
 "metadata": {
  "kernelspec": {
   "display_name": "Python 3.9.11 ('.venv': venv)",
   "language": "python",
   "name": "python3"
  },
  "language_info": {
   "codemirror_mode": {
    "name": "ipython",
    "version": 3
   },
   "file_extension": ".py",
   "mimetype": "text/x-python",
   "name": "python",
   "nbconvert_exporter": "python",
   "pygments_lexer": "ipython3",
   "version": "3.9.11"
  },
  "orig_nbformat": 4,
  "vscode": {
   "interpreter": {
    "hash": "ebcb17b0c5fbfb0d060fec197c152aa8bcc5bcd418c599616437c9c236e5ac38"
   }
  }
 },
 "nbformat": 4,
 "nbformat_minor": 2
}
